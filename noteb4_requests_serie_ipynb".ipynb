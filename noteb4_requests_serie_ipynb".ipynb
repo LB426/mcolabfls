{
  "nbformat": 4,
  "nbformat_minor": 0,
  "metadata": {
    "colab": {
      "provenance": [],
      "authorship_tag": "ABX9TyPWnREVTbQu89SMubzkoDIR",
      "include_colab_link": true
    },
    "kernelspec": {
      "name": "python3",
      "display_name": "Python 3"
    },
    "language_info": {
      "name": "python"
    }
  },
  "cells": [
    {
      "cell_type": "markdown",
      "metadata": {
        "id": "view-in-github",
        "colab_type": "text"
      },
      "source": [
        "<a href=\"https://colab.research.google.com/github/LB426/mcolabfls/blob/main/noteb4_requests_serie_ipynb%22.ipynb\" target=\"_parent\"><img src=\"https://colab.research.google.com/assets/colab-badge.svg\" alt=\"Open In Colab\"/></a>"
      ]
    },
    {
      "cell_type": "code",
      "execution_count": 2,
      "metadata": {
        "id": "Lv76wEeFcrFi"
      },
      "outputs": [],
      "source": [
        "import sys\n",
        "import requests, json"
      ]
    },
    {
      "cell_type": "code",
      "source": [
        "url = \"https://muryshev-saiga-cuda-chat.hf.space\""
      ],
      "metadata": {
        "id": "QIUi2ke5XAZX"
      },
      "execution_count": 8,
      "outputs": []
    },
    {
      "cell_type": "code",
      "source": [
        "def f2_muryshev_saiga_cuda_chat(req: dict) -> str:\n",
        "  headers = {'Content-type': 'application/json'}\n",
        "  r = requests.post(url, data=json.dumps(req), headers=headers)\n",
        "  r.encoding = 'utf-8'\n",
        "  if r.status_code != 200:\n",
        "    print(f\"ERR: http ret status code: {r.status_code}\")\n",
        "  else:\n",
        "    print(f\"OK: http ret status: {r.status_code}\")\n",
        "    print(r.text)\n",
        "\n",
        "  return r.text"
      ],
      "metadata": {
        "id": "pl3wSiJgcdIT"
      },
      "execution_count": 16,
      "outputs": []
    },
    {
      "cell_type": "code",
      "source": [
        "reqs = [\n",
        "    {\"messages\": [{\"from\": \"user\", \"content\": \"Напиши функции Владимира Проппа\"}], \"parameters\": {\"temperature\": 0.01, \"top_p\": 0.85, \"repetition_penalty\": 1.2, \"top_k\": 30}},\n",
        "    {\"messages\": [{\"from\": \"user\", \"content\": \"Создай сет персонажей для новой истории про Гарри Поттера согласно функциям\"}], \"parameters\": {\"temperature\": 0.01, \"top_p\": 0.85, \"repetition_penalty\": 1.2, \"top_k\": 30}}\n",
        " ]\n",
        "\n",
        "for req in reqs:\n",
        "  resp = f2_muryshev_saiga_cuda_chat(req)\n",
        "  print(f\"{resp}\")"
      ],
      "metadata": {
        "id": "DSxBeImMVUsm"
      },
      "execution_count": null,
      "outputs": []
    },
    {
      "cell_type": "code",
      "source": [
        "# разобъём то что вернул сайт muryshev-saiga-cuda-chat.hf.space на предложения чтобы было удобно читать\n",
        "import re\n",
        "split_regex = re.compile(r'[.|!|?]')\n",
        "sentences = filter(lambda t: t, [t.strip() for t in split_regex.split(r.text)])\n",
        "for s in sentences:\n",
        "  print(f\"{s}.\")\n",
        "# del r"
      ],
      "metadata": {
        "id": "k3rL4q9ThXpW"
      },
      "execution_count": null,
      "outputs": []
    }
  ]
}