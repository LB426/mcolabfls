{
  "nbformat": 4,
  "nbformat_minor": 0,
  "metadata": {
    "colab": {
      "provenance": [],
      "authorship_tag": "ABX9TyODygljVaQ60CwTe861xkp/",
      "include_colab_link": true
    },
    "kernelspec": {
      "name": "python3",
      "display_name": "Python 3"
    },
    "language_info": {
      "name": "python"
    }
  },
  "cells": [
    {
      "cell_type": "markdown",
      "metadata": {
        "id": "view-in-github",
        "colab_type": "text"
      },
      "source": [
        "<a href=\"https://colab.research.google.com/github/LB426/mcolabfls/blob/main/ntbk_01_files.ipynb\" target=\"_parent\"><img src=\"https://colab.research.google.com/assets/colab-badge.svg\" alt=\"Open In Colab\"/></a>"
      ]
    },
    {
      "cell_type": "code",
      "source": [
        "import os, sys, shutil\n",
        "from pathlib import Path\n",
        "# pip install GitPython\n",
        "from git import Repo\n",
        "\n",
        "repo_url = \"https://github.com/LB426/mcolabfls.git\"\n",
        "repo_name = \"mcolabs\"\n",
        "repo_local_dir = Path.cwd() / repo_name\n",
        "\n",
        "if repo_local_dir.exists() and repo_local_dir.is_dir():\n",
        "    shutil.rmtree(repo_local_dir)\n",
        "\n",
        "try:\n",
        "  repo = Repo.clone_from(repo_url, repo_local_dir)\n",
        "except git.exc.GitError as err:\n",
        "  print(f\"ERR: clone from {repo_url} unsuccess, err message: {err}\")\n",
        "  sys.exit(1)\n",
        "\n",
        "print(f\"Repo {repo_url} cloned successful\\n\")"
      ],
      "metadata": {
        "id": "Slq-OWsNxcBu",
        "colab": {
          "base_uri": "https://localhost:8080/"
        },
        "outputId": "fd94a3db-3b20-4a44-f483-db12ce0715ce"
      },
      "execution_count": 3,
      "outputs": [
        {
          "output_type": "stream",
          "name": "stdout",
          "text": [
            "Repo https://github.com/LB426/mcolabfls.git cloned successful\n",
            "\n"
          ]
        }
      ]
    }
  ]
}