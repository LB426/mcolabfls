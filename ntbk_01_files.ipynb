{
  "nbformat": 4,
  "nbformat_minor": 0,
  "metadata": {
    "colab": {
      "provenance": [],
      "authorship_tag": "ABX9TyMKPZQUyIWXn7jJWLLiTqpQ",
      "include_colab_link": true
    },
    "kernelspec": {
      "name": "python3",
      "display_name": "Python 3"
    },
    "language_info": {
      "name": "python"
    }
  },
  "cells": [
    {
      "cell_type": "markdown",
      "metadata": {
        "id": "view-in-github",
        "colab_type": "text"
      },
      "source": [
        "<a href=\"https://colab.research.google.com/github/LB426/mcolabfls/blob/main/ntbk_01_files.ipynb\" target=\"_parent\"><img src=\"https://colab.research.google.com/assets/colab-badge.svg\" alt=\"Open In Colab\"/></a>"
      ]
    },
    {
      "cell_type": "code",
      "source": [
        "!pip install GitPython"
      ],
      "metadata": {
        "id": "-pHQmRBIPrZX"
      },
      "execution_count": null,
      "outputs": []
    },
    {
      "cell_type": "code",
      "source": [
        "import os, sys, shutil\n",
        "from pathlib import Path\n",
        "from pathlib import PurePath\n",
        "from git import Repo\n",
        "\n",
        "repo_url = \"https://github.com/LB426/mcolabfls.git\"\n",
        "repo_name = \"mcolabs\"\n",
        "repo_local_dir = Path.cwd() / repo_name\n",
        "\n",
        "if repo_local_dir.exists() and repo_local_dir.is_dir():\n",
        "    shutil.rmtree(repo_local_dir)\n",
        "\n",
        "try:\n",
        "  repo = Repo.clone_from(repo_url, repo_local_dir)\n",
        "except git.exc.GitError as err:\n",
        "  print(f\"ERR: clone from {repo_url} unsuccess, err message: {err}\")\n",
        "  sys.exit(1)\n",
        "print(f\"repository {repo_url} cloned succesful\\n\")"
      ],
      "metadata": {
        "id": "Slq-OWsNxcBu",
        "colab": {
          "base_uri": "https://localhost:8080/"
        },
        "outputId": "fc48964a-1979-42bb-a839-6c1e798b42e7"
      },
      "execution_count": 23,
      "outputs": [
        {
          "output_type": "stream",
          "name": "stdout",
          "text": [
            "repository https://github.com/LB426/mcolabfls.git cloned succesful\n",
            "\n"
          ]
        }
      ]
    },
    {
      "cell_type": "code",
      "source": [
        "for file in repo_local_dir.glob(\"*.txt\"):\n",
        "  with open(file, 'r') as f:\n",
        "    file_content = f.read()\n",
        "  print(file_content)"
      ],
      "metadata": {
        "id": "OAY538CkU2d0",
        "outputId": "ec00f931-ebe6-4a23-fd94-a823772aec54",
        "colab": {
          "base_uri": "https://localhost:8080/"
        }
      },
      "execution_count": 24,
      "outputs": [
        {
          "output_type": "stream",
          "name": "stdout",
          "text": [
            "тут будет промпт 01\n",
            "\n",
            "тут будет промпт 02\n",
            "\n",
            "здесь будет промт 3\n",
            "\n"
          ]
        }
      ]
    }
  ]
}