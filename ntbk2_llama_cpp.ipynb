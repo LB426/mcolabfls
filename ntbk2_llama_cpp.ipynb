{
  "nbformat": 4,
  "nbformat_minor": 0,
  "metadata": {
    "colab": {
      "provenance": [],
      "mount_file_id": "1NX7igWthF_ctdZGS-A4UyOC5MxhlD-p2",
      "authorship_tag": "ABX9TyMfBnba1UQs4+G/X0JFqi+8",
      "include_colab_link": true
    },
    "kernelspec": {
      "name": "python3",
      "display_name": "Python 3"
    },
    "language_info": {
      "name": "python"
    }
  },
  "cells": [
    {
      "cell_type": "markdown",
      "metadata": {
        "id": "view-in-github",
        "colab_type": "text"
      },
      "source": [
        "<a href=\"https://colab.research.google.com/github/LB426/mcolabfls/blob/main/ntbk2_llama_cpp.ipynb\" target=\"_parent\"><img src=\"https://colab.research.google.com/assets/colab-badge.svg\" alt=\"Open In Colab\"/></a>"
      ]
    },
    {
      "cell_type": "code",
      "execution_count": null,
      "metadata": {
        "id": "5Csu9JRn0vfU"
      },
      "outputs": [],
      "source": [
        "!git clone https://github.com/ggerganov/llama.cpp.git"
      ]
    },
    {
      "cell_type": "code",
      "source": [
        "!cd llama.cpp ; make"
      ],
      "metadata": {
        "id": "5h3GJHnZBVyQ"
      },
      "execution_count": null,
      "outputs": []
    },
    {
      "cell_type": "code",
      "source": [
        "!wget https://huggingface.co/TheBloke/opus-v0-7B-GGUF/resolve/main/opus-v0-7b.Q2_K.gguf"
      ],
      "metadata": {
        "id": "uaSBlM9SCyjr"
      },
      "execution_count": null,
      "outputs": []
    },
    {
      "cell_type": "code",
      "source": [
        "!./llama.cpp/main --help"
      ],
      "metadata": {
        "id": "W8ADMyYaEARm"
      },
      "execution_count": null,
      "outputs": []
    },
    {
      "cell_type": "code",
      "source": [
        "!./llama.cpp/main -m /content/drive/MyDrive/opus-v0-7b.Q2_K.gguf -p \"harry potter came back to Hogwarts. The dark magician is back and Harry has to fight him.\" -n 400 -e"
      ],
      "metadata": {
        "id": "h4CAxVhgEKjP"
      },
      "execution_count": null,
      "outputs": []
    },
    {
      "cell_type": "code",
      "source": [
        "!cmake --version"
      ],
      "metadata": {
        "id": "3I1IG5wqFxMD"
      },
      "execution_count": null,
      "outputs": []
    }
  ]
}