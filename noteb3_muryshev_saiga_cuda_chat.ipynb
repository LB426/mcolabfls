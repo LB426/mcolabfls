{
  "nbformat": 4,
  "nbformat_minor": 0,
  "metadata": {
    "colab": {
      "provenance": [],
      "authorship_tag": "ABX9TyNNDfC1J/+yXCKf0WSKJQxm",
      "include_colab_link": true
    },
    "kernelspec": {
      "name": "python3",
      "display_name": "Python 3"
    },
    "language_info": {
      "name": "python"
    }
  },
  "cells": [
    {
      "cell_type": "markdown",
      "metadata": {
        "id": "view-in-github",
        "colab_type": "text"
      },
      "source": [
        "<a href=\"https://colab.research.google.com/github/LB426/mcolabfls/blob/main/noteb3_muryshev_saiga_cuda_chat.ipynb\" target=\"_parent\"><img src=\"https://colab.research.google.com/assets/colab-badge.svg\" alt=\"Open In Colab\"/></a>"
      ]
    },
    {
      "cell_type": "code",
      "execution_count": 1,
      "metadata": {
        "id": "Lv76wEeFcrFi"
      },
      "outputs": [],
      "source": [
        "import sys\n",
        "import requests, json"
      ]
    },
    {
      "cell_type": "code",
      "source": [
        "url = \"https://muryshev-saiga-cuda-chat.hf.space\"\n",
        "data = {\"messages\": [{\"from\": \"user\", \"content\": \"Как жарить суши?\"}], \"parameters\": {\"temperature\": 0.01, \"top_p\": 0.85, \"repetition_penalty\": 1.2, \"top_k\": 30}}\n",
        "headers = {'Content-type': 'application/json'}\n",
        "r = requests.post(url, data=json.dumps(data), headers=headers)\n",
        "r.encoding = 'utf-8'\n",
        "if r.status_code != 200:\n",
        "  print(f\"ERR: http ret status code: {r.status_code}\")\n",
        "else:\n",
        "  print(f\"OK: http ret status: {r.status_code}\")\n",
        "  print(r.text)\n",
        "#  del r"
      ],
      "metadata": {
        "colab": {
          "base_uri": "https://localhost:8080/"
        },
        "id": "iTm-WybjijFv",
        "outputId": "f4cf176b-97df-4a55-dbc1-2b6d6cbd4a06"
      },
      "execution_count": 11,
      "outputs": [
        {
          "output_type": "stream",
          "name": "stdout",
          "text": [
            "OK: http ret status: 200\n",
            "Для приготовления суши необходимо: рис, рыбу (салат), морковь и луковицу. Все ингредиенты нарезаются тонкими полосками. Затем в кастрюлю кладутся все продукты вместе с солью и перцем. Варить сушу 10-15 минут, после чего она будет готова к употреблению.\n"
          ]
        }
      ]
    },
    {
      "cell_type": "code",
      "source": [
        "# разобъём то что вернул сайт muryshev-saiga-cuda-chat.hf.space на предложения чтобы было удобно читать\n",
        "import re\n",
        "split_regex = re.compile(r'[.|!|?]')\n",
        "sentences = filter(lambda t: t, [t.strip() for t in split_regex.split(r.text)])\n",
        "for s in sentences:\n",
        "  print(f\"{s}.\")\n",
        "# del r"
      ],
      "metadata": {
        "id": "k3rL4q9ThXpW"
      },
      "execution_count": null,
      "outputs": []
    }
  ]
}